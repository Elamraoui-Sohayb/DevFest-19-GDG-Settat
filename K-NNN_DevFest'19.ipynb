{
 "cells": [
  {
   "cell_type": "markdown",
   "metadata": {},
   "source": [
    "<img src='./images/Banner.jpg'/>\n",
    "\n",
    "# KNearestNeighbor from Scratch\n",
    "##### A Simple Introduction to ML,\n",
    "<p> by &copy; El Amraoui Sohayb</p>"
   ]
  },
  {
   "cell_type": "markdown",
   "metadata": {},
   "source": [
    "## Outline\n",
    "1.  [Objectives](#0)\n",
    "1.  [Machine Learning](#1)\n",
    "1.  [Types of Learning](#2)\n",
    "    1.  [Supervised Learnojg](#2.1)\n",
    "    1.  [Unsupervised Learning](#2.2)\n",
    "    1.  [Reinforcment Learning](#2.3)\n",
    "    1.  [Regression and Classification](#2.4)\n",
    "1.  [EDA: Exploratory Data Analysis](#3)\n",
    "    1.  [Load Data](#3.1)\n",
    "    1.  [Collect general information](#3.2)\n",
    "    1.  [Data Visualisation](#3.3)\n",
    "    1.  [Correlation Matirx](#3.4)\n",
    "    1.  [More on EDA](#3.5)\n",
    "1.  [On to Modelling](#4)\n",
    "    1.  [Split Data](#4.1)\n",
    "    1.  [K-NN Algorithm](#4.2)\n",
    "    1.  [Evaluating Model Performences](#4.3)\n",
    "    1.  [Define Euclidian Distance](#4.4)\n",
    "    1.  [1NN with Euclidian Distance](#4.5)\n",
    "    1.  [3NN with Euclidian Distance](#4.6)\n",
    "    1.  [General KNN with Different Distances](#4.7)\n",
    "1.  [Comparing with Sklearn](#5)\n",
    "1.  [Summary](#6)\n",
    "1.  [Where to Go Next?](#7)"
   ]
  },
  {
   "cell_type": "markdown",
   "metadata": {},
   "source": [
    "## <a id=\"0\">Objectives:</a>\n",
    "This tutorial aims to present what is **Machine Learning**, and how it can be applied on data to asnwer a business problem.\n",
    "\n",
    "After a brief intoroduction to Machine Learning, we will explore  \n",
    "   - The Iris Dataset\n",
    "\n",
    "Next, we will devlopp and apply on our datasets, one of the simple **Machine Learning** algorithmes: ***The Nearest Neighbor Algorithme***\n",
    "\n",
    "Finally, we will compare our impelentation with the **Sickit-learn** implementation of the Nearest Neighbor Algorithm.\n"
   ]
  },
  {
   "cell_type": "markdown",
   "metadata": {},
   "source": [
    "## <a id=\"1\">Machine Learning</a>\n",
    "> It is the Modeling of Mathematic principles and properties into algorithms and techniques that\n",
    "enable the detection of patterns in the input Data and inferring on the basis of these patterns in\n",
    "the future use.\n",
    "\n",
    "The goal being to give computers the ability to learn patterns from data and make decisions without being explicitly programmed.\n",
    "\n",
    "**Classic Examples:**\n",
    "- Classifying an email as spam or not.\n",
    "- Predicting the estimated sale price of a house.\n",
    "\n",
    "<img src='./images/ML Pipeline.PNG'/>\n",
    "\n",
    "## <a id=\"2\">Types of Learning</a>\n",
    "### <a id=\"2.1\">Supervised Learning\n",
    "It's learning by Feedback, we disposed of labeled Input Data, meaning for each input observation -formed by a set of features-, there is an output result which is the label.\n",
    "Under supervised learning, we are using our Input Data to make the model learn as much patterns as possible, so it can deduce the correct label for new observations.\n",
    "<img src='./images/Supervised.PNG'/>\n",
    "#### <a id=\"2.2\">Unsupervised Learning</a>\n",
    "When you dispose of Data without labels, your goal is to extract insights based solely on the input observations.\n",
    "\n",
    "A Classic use case for this type of learning is: **“Anomaly detection”**, where the goal is to describing how much a particular observation in our input Data is different from the **“typical”** or **“standard”** observations in the same input Data. \n",
    "\n",
    "Another example is **“Dimensionality reduction”**, in which we want to retain only the most informative features in our observations, and remove the rest of the features, i.e.: dimensions.\n",
    "<img src='./images/Unsupervised.PNG'/>\n",
    "### <a id=\"2.3\">Reinforcment Learning</a>\n",
    "A specific case of feedback learning, Reinforcement learning treat the machine as a living mind, we provide it with a set of allowed actions, corresponding rewards or penalties, rules and potential end states, and we tasked it to find the optimal policy that would maximize the rewards, which means reaching the desired end state or goal in an optimal decision making chain.\n",
    "\n",
    "In practice, this type of learning lends itself to problems with sequential decision making, and a long-term goal, the famous field of application are robotics and game playing, but it used also in more traditional business applications, such as logistics, transports navigation, and resource management.\n",
    "<img src='./images/Reinforcment.PNG'/>\n",
    "\n",
    "### <a id=\"2.4\">Regression and classification</a>\n",
    "\n",
    "Variables can be characterized as either quantitative or qualitative (also known as categorical).\n",
    "\n",
    "- **Quantitative variables** take on numerical values, such as: a person’s age, height, or income, the value of a house, and the price of a stock.\n",
    "- **Qualitative variables** take on values in one of N different classes, or categories. Examples: a person’s gender (male or female), the brand of a product (brand A, B, or C), whether a person defaults on a debt (yes or no).\n",
    "\n",
    "We refer to problems with a **quantitative label** as **regression problems**, while those involving a **qualitative label** are **classification problems**."
   ]
  },
  {
   "cell_type": "markdown",
   "metadata": {},
   "source": [
    "## <a id=\"3\">EDA: Exploratory Data Analysis</a>\n",
    "### <a id=\"3.1\">Loading Data</a>"
   ]
  },
  {
   "cell_type": "markdown",
   "metadata": {},
   "source": [
    "The Iris Dataset can be Loaded with Scickit-learn \"load_iris()\" methode, or reading the \".csv\" file provided.\n",
    " - The Features:\n",
    "        ● Petal length\n",
    "        ● Petal width\n",
    "        ● Sepal length\n",
    "        ● Sepal width\n",
    " - The Target variable: Species\n",
    "        ● Versicolor\n",
    "        ● Virginica\n",
    "        ● Setosa\n",
    "<img src='./images/iris.PNG'/>"
   ]
  },
  {
   "cell_type": "code",
   "execution_count": 1,
   "metadata": {},
   "outputs": [],
   "source": [
    "import numpy as np\n",
    "import pandas as pd\n",
    "## Loading iris using Sklearn:\n",
    "#from sklearn.datasets import load_iris\n",
    "#iris = load_iris()\n",
    "iris = pd.read_csv(\"iris.csv\")"
   ]
  },
  {
   "cell_type": "markdown",
   "metadata": {},
   "source": [
    "### <a id=\"3.2\">Collect general information: Using Head(), Describe(), Info()</a>"
   ]
  },
  {
   "cell_type": "code",
   "execution_count": 2,
   "metadata": {},
   "outputs": [
    {
     "data": {
      "text/html": [
       "<div>\n",
       "<style scoped>\n",
       "    .dataframe tbody tr th:only-of-type {\n",
       "        vertical-align: middle;\n",
       "    }\n",
       "\n",
       "    .dataframe tbody tr th {\n",
       "        vertical-align: top;\n",
       "    }\n",
       "\n",
       "    .dataframe thead th {\n",
       "        text-align: right;\n",
       "    }\n",
       "</style>\n",
       "<table border=\"1\" class=\"dataframe\">\n",
       "  <thead>\n",
       "    <tr style=\"text-align: right;\">\n",
       "      <th></th>\n",
       "      <th>sepal length (cm)</th>\n",
       "      <th>sepal width (cm)</th>\n",
       "      <th>petal length (cm)</th>\n",
       "      <th>petal width (cm)</th>\n",
       "      <th>target</th>\n",
       "    </tr>\n",
       "  </thead>\n",
       "  <tbody>\n",
       "    <tr>\n",
       "      <th>0</th>\n",
       "      <td>5.1</td>\n",
       "      <td>3.5</td>\n",
       "      <td>1.4</td>\n",
       "      <td>0.2</td>\n",
       "      <td>0</td>\n",
       "    </tr>\n",
       "    <tr>\n",
       "      <th>1</th>\n",
       "      <td>4.9</td>\n",
       "      <td>3.0</td>\n",
       "      <td>1.4</td>\n",
       "      <td>0.2</td>\n",
       "      <td>0</td>\n",
       "    </tr>\n",
       "    <tr>\n",
       "      <th>2</th>\n",
       "      <td>4.7</td>\n",
       "      <td>3.2</td>\n",
       "      <td>1.3</td>\n",
       "      <td>0.2</td>\n",
       "      <td>0</td>\n",
       "    </tr>\n",
       "    <tr>\n",
       "      <th>3</th>\n",
       "      <td>4.6</td>\n",
       "      <td>3.1</td>\n",
       "      <td>1.5</td>\n",
       "      <td>0.2</td>\n",
       "      <td>0</td>\n",
       "    </tr>\n",
       "    <tr>\n",
       "      <th>4</th>\n",
       "      <td>5.0</td>\n",
       "      <td>3.6</td>\n",
       "      <td>1.4</td>\n",
       "      <td>0.2</td>\n",
       "      <td>0</td>\n",
       "    </tr>\n",
       "  </tbody>\n",
       "</table>\n",
       "</div>"
      ],
      "text/plain": [
       "   sepal length (cm)  sepal width (cm)  petal length (cm)  petal width (cm)  \\\n",
       "0                5.1               3.5                1.4               0.2   \n",
       "1                4.9               3.0                1.4               0.2   \n",
       "2                4.7               3.2                1.3               0.2   \n",
       "3                4.6               3.1                1.5               0.2   \n",
       "4                5.0               3.6                1.4               0.2   \n",
       "\n",
       "   target  \n",
       "0       0  \n",
       "1       0  \n",
       "2       0  \n",
       "3       0  \n",
       "4       0  "
      ]
     },
     "execution_count": 2,
     "metadata": {},
     "output_type": "execute_result"
    }
   ],
   "source": [
    "iris.head()"
   ]
  },
  {
   "cell_type": "code",
   "execution_count": 3,
   "metadata": {},
   "outputs": [
    {
     "data": {
      "text/html": [
       "<div>\n",
       "<style scoped>\n",
       "    .dataframe tbody tr th:only-of-type {\n",
       "        vertical-align: middle;\n",
       "    }\n",
       "\n",
       "    .dataframe tbody tr th {\n",
       "        vertical-align: top;\n",
       "    }\n",
       "\n",
       "    .dataframe thead th {\n",
       "        text-align: right;\n",
       "    }\n",
       "</style>\n",
       "<table border=\"1\" class=\"dataframe\">\n",
       "  <thead>\n",
       "    <tr style=\"text-align: right;\">\n",
       "      <th></th>\n",
       "      <th>sepal length (cm)</th>\n",
       "      <th>sepal width (cm)</th>\n",
       "      <th>petal length (cm)</th>\n",
       "      <th>petal width (cm)</th>\n",
       "      <th>target</th>\n",
       "    </tr>\n",
       "  </thead>\n",
       "  <tbody>\n",
       "    <tr>\n",
       "      <th>count</th>\n",
       "      <td>150.000000</td>\n",
       "      <td>150.000000</td>\n",
       "      <td>150.000000</td>\n",
       "      <td>150.000000</td>\n",
       "      <td>150.000000</td>\n",
       "    </tr>\n",
       "    <tr>\n",
       "      <th>mean</th>\n",
       "      <td>5.843333</td>\n",
       "      <td>3.057333</td>\n",
       "      <td>3.758000</td>\n",
       "      <td>1.199333</td>\n",
       "      <td>1.000000</td>\n",
       "    </tr>\n",
       "    <tr>\n",
       "      <th>std</th>\n",
       "      <td>0.828066</td>\n",
       "      <td>0.435866</td>\n",
       "      <td>1.765298</td>\n",
       "      <td>0.762238</td>\n",
       "      <td>0.819232</td>\n",
       "    </tr>\n",
       "    <tr>\n",
       "      <th>min</th>\n",
       "      <td>4.300000</td>\n",
       "      <td>2.000000</td>\n",
       "      <td>1.000000</td>\n",
       "      <td>0.100000</td>\n",
       "      <td>0.000000</td>\n",
       "    </tr>\n",
       "    <tr>\n",
       "      <th>25%</th>\n",
       "      <td>5.100000</td>\n",
       "      <td>2.800000</td>\n",
       "      <td>1.600000</td>\n",
       "      <td>0.300000</td>\n",
       "      <td>0.000000</td>\n",
       "    </tr>\n",
       "    <tr>\n",
       "      <th>50%</th>\n",
       "      <td>5.800000</td>\n",
       "      <td>3.000000</td>\n",
       "      <td>4.350000</td>\n",
       "      <td>1.300000</td>\n",
       "      <td>1.000000</td>\n",
       "    </tr>\n",
       "    <tr>\n",
       "      <th>75%</th>\n",
       "      <td>6.400000</td>\n",
       "      <td>3.300000</td>\n",
       "      <td>5.100000</td>\n",
       "      <td>1.800000</td>\n",
       "      <td>2.000000</td>\n",
       "    </tr>\n",
       "    <tr>\n",
       "      <th>max</th>\n",
       "      <td>7.900000</td>\n",
       "      <td>4.400000</td>\n",
       "      <td>6.900000</td>\n",
       "      <td>2.500000</td>\n",
       "      <td>2.000000</td>\n",
       "    </tr>\n",
       "  </tbody>\n",
       "</table>\n",
       "</div>"
      ],
      "text/plain": [
       "       sepal length (cm)  sepal width (cm)  petal length (cm)  \\\n",
       "count         150.000000        150.000000         150.000000   \n",
       "mean            5.843333          3.057333           3.758000   \n",
       "std             0.828066          0.435866           1.765298   \n",
       "min             4.300000          2.000000           1.000000   \n",
       "25%             5.100000          2.800000           1.600000   \n",
       "50%             5.800000          3.000000           4.350000   \n",
       "75%             6.400000          3.300000           5.100000   \n",
       "max             7.900000          4.400000           6.900000   \n",
       "\n",
       "       petal width (cm)      target  \n",
       "count        150.000000  150.000000  \n",
       "mean           1.199333    1.000000  \n",
       "std            0.762238    0.819232  \n",
       "min            0.100000    0.000000  \n",
       "25%            0.300000    0.000000  \n",
       "50%            1.300000    1.000000  \n",
       "75%            1.800000    2.000000  \n",
       "max            2.500000    2.000000  "
      ]
     },
     "execution_count": 3,
     "metadata": {},
     "output_type": "execute_result"
    }
   ],
   "source": [
    "iris.describe()"
   ]
  },
  {
   "cell_type": "code",
   "execution_count": 4,
   "metadata": {},
   "outputs": [
    {
     "name": "stdout",
     "output_type": "stream",
     "text": [
      "<class 'pandas.core.frame.DataFrame'>\n",
      "RangeIndex: 150 entries, 0 to 149\n",
      "Data columns (total 5 columns):\n",
      "sepal length (cm)    150 non-null float64\n",
      "sepal width (cm)     150 non-null float64\n",
      "petal length (cm)    150 non-null float64\n",
      "petal width (cm)     150 non-null float64\n",
      "target               150 non-null int64\n",
      "dtypes: float64(4), int64(1)\n",
      "memory usage: 5.9 KB\n"
     ]
    }
   ],
   "source": [
    "iris.info()"
   ]
  },
  {
   "cell_type": "markdown",
   "metadata": {},
   "source": [
    "### <a id=\"3.3\">Data Visualization</a>"
   ]
  },
  {
   "cell_type": "code",
   "execution_count": 5,
   "metadata": {},
   "outputs": [],
   "source": [
    "# data visualization\n",
    "import matplotlib.pyplot as plt\n",
    "import seaborn as sns"
   ]
  },
  {
   "cell_type": "markdown",
   "metadata": {},
   "source": [
    "Let's start analyzing our target, using the describe function."
   ]
  },
  {
   "cell_type": "code",
   "execution_count": 6,
   "metadata": {},
   "outputs": [
    {
     "data": {
      "text/plain": [
       "count    150.000000\n",
       "mean       1.000000\n",
       "std        0.819232\n",
       "min        0.000000\n",
       "25%        0.000000\n",
       "50%        1.000000\n",
       "75%        2.000000\n",
       "max        2.000000\n",
       "Name: target, dtype: float64"
      ]
     },
     "execution_count": 6,
     "metadata": {},
     "output_type": "execute_result"
    }
   ],
   "source": [
    "iris['target'].describe()"
   ]
  },
  {
   "cell_type": "markdown",
   "metadata": {},
   "source": [
    "At this point, we can plot the count"
   ]
  },
  {
   "cell_type": "code",
   "execution_count": 7,
   "metadata": {},
   "outputs": [
    {
     "data": {
      "text/plain": [
       "<matplotlib.axes._subplots.AxesSubplot at 0x24a1c040550>"
      ]
     },
     "execution_count": 7,
     "metadata": {},
     "output_type": "execute_result"
    },
    {
     "data": {
      "image/png": "[encoded data removed]",
      "text/plain": [
       "<Figure size 1080x504 with 1 Axes>"
      ]
     },
     "metadata": {
      "needs_background": "light"
     },
     "output_type": "display_data"
    }
   ],
   "source": [
    "plt.figure(figsize=(15,7))\n",
    "sns.countplot(iris['target'])"
   ]
  },
  {
   "cell_type": "markdown",
   "metadata": {},
   "source": [
    "### <a id=\"3.4\">Correlation matrix</a>"
   ]
  },
  {
   "cell_type": "markdown",
   "metadata": {},
   "source": [
    "Let's now find correlations between our variables using a correlation matrix."
   ]
  },
  {
   "cell_type": "code",
   "execution_count": 8,
   "metadata": {},
   "outputs": [
    {
     "data": {
      "image/png": "[encoded data removed]",
      "text/plain": [
       "<Figure size 1440x720 with 2 Axes>"
      ]
     },
     "metadata": {
      "needs_background": "light"
     },
     "output_type": "display_data"
    }
   ],
   "source": [
    "#correlation matrix\n",
    "corrmat = iris.corr()\n",
    "f, ax = plt.subplots(figsize=(20, 10))\n",
    "sns.heatmap(corrmat, vmax=.8, square=True);"
   ]
  },
  {
   "cell_type": "markdown",
   "metadata": {},
   "source": [
    "### <a id=\"3.5\">More on EDA and Features selection</a>"
   ]
  },
  {
   "cell_type": "markdown",
   "metadata": {},
   "source": [
    "##### Some of the main things that need to be checked are:\n",
    "- Is my data missing values? (And the answer is yes most of the time!)\n",
    "- Should i drop or fill the data, if the later then how?\n",
    "- What are the statistical properties of the data? How to deal with outliers?\n",
    "- How to deal with categorical data?\n",
    "\n",
    "##### These questions can be invistigated in 4 Major steps:\n",
    "- **Formatting:** The data needs to be presented in a useable format. Using an industrystandard format enable plugging the solution with multiple vendors that in turn can mix and match algorithms and data sources such as XML, HTML, and SOAP.\n",
    "- **Cleaning:*** The data needs to be cleaned by removing, substituting, or fixing corrupt or missing data. In some cases, data needs to be normalized, discretized, averaged, smoothened, or differentiated for efficient usage. In other cases, data may need to be transmitted as integers, double precisions, or strings.\n",
    "- **Sampling:** Data need to be sampled at regular or adaptive intervals in a manner such that redundancy is minimized without the loss of information for transmission via communication channels.\n",
    "- **Feature engineering:** Create (by way of inclusion, aggregation, and transformation) data features from the raw data to facilitate model training, the insights obtained from the data understanding and Visualizing steps and the level of domain expertise are key"
   ]
  },
  {
   "cell_type": "markdown",
   "metadata": {},
   "source": [
    "## <a id=\"4\">On to Modelling</a>"
   ]
  },
  {
   "cell_type": "markdown",
   "metadata": {},
   "source": [
    "### <a id=\"4.1\">Split Data</a>"
   ]
  },
  {
   "cell_type": "markdown",
   "metadata": {},
   "source": [
    "Split the dataset into the training and test sets, Using the function **\"train_test_split()\"** in sklearn, We can fix the same random_state for reproducibality purposes."
   ]
  },
  {
   "cell_type": "code",
   "execution_count": 9,
   "metadata": {},
   "outputs": [],
   "source": [
    "from sklearn.model_selection import train_test_split\n",
    "X_train_iris, X_test_iris, y_train_iris, y_test_iris = train_test_split(iris.drop(columns =['target']), iris['target'],test_size = 0.4, random_state=33)"
   ]
  },
  {
   "cell_type": "code",
   "execution_count": 10,
   "metadata": {},
   "outputs": [
    {
     "data": {
      "text/html": [
       "<div>\n",
       "<style scoped>\n",
       "    .dataframe tbody tr th:only-of-type {\n",
       "        vertical-align: middle;\n",
       "    }\n",
       "\n",
       "    .dataframe tbody tr th {\n",
       "        vertical-align: top;\n",
       "    }\n",
       "\n",
       "    .dataframe thead th {\n",
       "        text-align: right;\n",
       "    }\n",
       "</style>\n",
       "<table border=\"1\" class=\"dataframe\">\n",
       "  <thead>\n",
       "    <tr style=\"text-align: right;\">\n",
       "      <th></th>\n",
       "      <th>sepal length (cm)</th>\n",
       "      <th>sepal width (cm)</th>\n",
       "      <th>petal length (cm)</th>\n",
       "      <th>petal width (cm)</th>\n",
       "    </tr>\n",
       "  </thead>\n",
       "  <tbody>\n",
       "    <tr>\n",
       "      <th>133</th>\n",
       "      <td>6.3</td>\n",
       "      <td>2.8</td>\n",
       "      <td>5.1</td>\n",
       "      <td>1.5</td>\n",
       "    </tr>\n",
       "    <tr>\n",
       "      <th>8</th>\n",
       "      <td>4.4</td>\n",
       "      <td>2.9</td>\n",
       "      <td>1.4</td>\n",
       "      <td>0.2</td>\n",
       "    </tr>\n",
       "    <tr>\n",
       "      <th>4</th>\n",
       "      <td>5.0</td>\n",
       "      <td>3.6</td>\n",
       "      <td>1.4</td>\n",
       "      <td>0.2</td>\n",
       "    </tr>\n",
       "    <tr>\n",
       "      <th>129</th>\n",
       "      <td>7.2</td>\n",
       "      <td>3.0</td>\n",
       "      <td>5.8</td>\n",
       "      <td>1.6</td>\n",
       "    </tr>\n",
       "    <tr>\n",
       "      <th>85</th>\n",
       "      <td>6.0</td>\n",
       "      <td>3.4</td>\n",
       "      <td>4.5</td>\n",
       "      <td>1.6</td>\n",
       "    </tr>\n",
       "  </tbody>\n",
       "</table>\n",
       "</div>"
      ],
      "text/plain": [
       "     sepal length (cm)  sepal width (cm)  petal length (cm)  petal width (cm)\n",
       "133                6.3               2.8                5.1               1.5\n",
       "8                  4.4               2.9                1.4               0.2\n",
       "4                  5.0               3.6                1.4               0.2\n",
       "129                7.2               3.0                5.8               1.6\n",
       "85                 6.0               3.4                4.5               1.6"
      ]
     },
     "execution_count": 10,
     "metadata": {},
     "output_type": "execute_result"
    }
   ],
   "source": [
    "X_train_iris.head()"
   ]
  },
  {
   "cell_type": "code",
   "execution_count": 11,
   "metadata": {},
   "outputs": [],
   "source": [
    "y_train_iris = y_train_iris.reset_index(drop = True)\n",
    "y_test_iris = y_test_iris.reset_index(drop = True)\n",
    "X_train_iris = X_train_iris.reset_index(drop = True)\n",
    "X_test_iris = X_test_iris.reset_index(drop = True)"
   ]
  },
  {
   "cell_type": "markdown",
   "metadata": {},
   "source": [
    "### <a id=\"4.2\">K-NN Algorithm</a>"
   ]
  },
  {
   "cell_type": "markdown",
   "metadata": {},
   "source": [
    "<img src='./images/KNN.PNG'/>\n",
    "\n",
    "#### Algorithm for K-NN:\n",
    "1.   Load the given data file into your program\n",
    "2.   Initialize the number of neighbor to be considered i.e. ‘K’.\n",
    "3.   Now for each tuples (entries or data point) in the data file we perform:\n",
    "        1.   Calculate distance between the data point (tuple) to be classified and each data points in the given data file.\n",
    "        1.   Then add the distances corresponding to data points (data entries) in given data file (probably by adding column for distance).\n",
    "        1.   Sort the data in data file from smallest to largest (in ascending order) by the distances.\n",
    "4.   Pick the first K entries from the sorted collection of data.\n",
    "5.   Observe the labels of the selected K entries.\n",
    "6.   For classification, return the mode of the K labels and for regression, return the mean of K labels."
   ]
  },
  {
   "cell_type": "markdown",
   "metadata": {},
   "source": [
    " We will implement the Nearest Neighbour method (i.e., the 1 Nearest Neighbours method).\n",
    " \n",
    " Run it on both datasets: train it on the training set and compute the number of errors it makes on the test set and the test error rate (the ratio of the number of errors to the size of the test set)."
   ]
  },
  {
   "cell_type": "markdown",
   "metadata": {},
   "source": [
    "### <a id=\"4.3\">Evaluating model performance</a>\n",
    "\n",
    "A simple way to mesure performences in a classification problem is **Accuracy** = Fraction of correct predictions.\n",
    "\n",
    "For that, we\n",
    "1. split data into training and test set, \n",
    "2. fit/train the classifier on the training set, \n",
    "3. make predictions on test set, \n",
    "4. compare predictions with the known labels"
   ]
  },
  {
   "cell_type": "markdown",
   "metadata": {},
   "source": [
    "### <a id=\"4.4\">Defining Eculieidan Distance</a>"
   ]
  },
  {
   "cell_type": "code",
   "execution_count": 12,
   "metadata": {},
   "outputs": [],
   "source": [
    "# making function for calculating euclidean distance\n",
    "def E_Distance(x1, x2):\n",
    "    return np.sqrt(np.sum(np.square(x1- x2)))"
   ]
  },
  {
   "cell_type": "markdown",
   "metadata": {},
   "source": [
    "### <a id=\"4.5\">1NN with Euclidian Distance</a>"
   ]
  },
  {
   "cell_type": "code",
   "execution_count": 13,
   "metadata": {},
   "outputs": [],
   "source": [
    "import pandas as pd\n",
    "class Knn_Classifier1:\n",
    "    def __init__(self):\n",
    "        return None\n",
    "    \n",
    "    def E_Distance(self, x1, x2):\n",
    "        return np.sqrt(np.sum(np.square(x1- x2)))\n",
    "\n",
    "    def train (self, X_train, y_train):\n",
    "        labels = []\n",
    "        errors = 0\n",
    "        data = pd.DataFrame.assign(X_train)\n",
    "        data = data.assign(target=y_train)\n",
    "\n",
    "        for x in data.index:\n",
    "            instance = data.iloc[x,:-1]\n",
    "            rest = data.drop(labels = x)\n",
    "            rest['dist'] = np.empty_like(rest.shape[0])\n",
    "            rest['dist'] = rest.apply(lambda s: self.E_Distance(s.iloc[:-2],instance), axis=1)\n",
    "            rest = rest.sort_values(by = ['dist'])\n",
    "            label = rest['target'].iloc[:1].value_counts().index[0]\n",
    "            if label != data['target'][x]: \n",
    "                errors += 1\n",
    "            labels.append(label)\n",
    "        print('total errors: ', errors)\n",
    "        print('error rate: ', errors/data.shape[0])\n",
    "        data['predicted'] = labels\n",
    "        print(data.head())\n",
    "        return data, errors, errors/data.shape[0]\n",
    "    def test (self, X_train, y_train, X_test, y_test ):\n",
    "        labels = []\n",
    "        errors = 0\n",
    "        data_train = pd.DataFrame.assign(X_train)\n",
    "        data_train = data_train.assign(target=y_train)\n",
    "\n",
    "        data_test = pd.DataFrame.assign(X_test)\n",
    "        data_test = data_test.assign(target=y_test)\n",
    "\n",
    "        for x in data_test.index:\n",
    "            instance = data_test.iloc[x, :-1]\n",
    "            data_train['dist'] = np.empty_like(data_train.shape[0])\n",
    "            data_train['dist'] = data_train.apply(lambda s: E_Distance(s.iloc[:-2],instance), axis=1)\n",
    "            data_train = data_train.sort_values(by = ['dist'])\n",
    "            label = data_train['target'].iloc[:1].value_counts().index[0]\n",
    "            if label != data_test['target'][x]: \n",
    "                errors += 1\n",
    "            labels.append(label)\n",
    "        print('Test total errors: ', errors)\n",
    "        print('Test error rate: ', errors/data_test.shape[0])\n",
    "        data_test['predicted'] = labels\n",
    "        print(data_test.head())\n",
    "        return data_test, errors, errors/data_test.shape[0]"
   ]
  },
  {
   "cell_type": "markdown",
   "metadata": {},
   "source": [
    "#### Runing 1NN on Iris "
   ]
  },
  {
   "cell_type": "code",
   "execution_count": 14,
   "metadata": {},
   "outputs": [],
   "source": [
    "Knn1 = Knn_Classifier1()"
   ]
  },
  {
   "cell_type": "code",
   "execution_count": 15,
   "metadata": {},
   "outputs": [
    {
     "name": "stdout",
     "output_type": "stream",
     "text": [
      "total errors:  5\n",
      "error rate:  0.05555555555555555\n",
      "   sepal length (cm)  sepal width (cm)  petal length (cm)  petal width (cm)  \\\n",
      "0                6.3               2.8                5.1               1.5   \n",
      "1                4.4               2.9                1.4               0.2   \n",
      "2                5.0               3.6                1.4               0.2   \n",
      "3                7.2               3.0                5.8               1.6   \n",
      "4                6.0               3.4                4.5               1.6   \n",
      "\n",
      "   target  predicted  \n",
      "0       2          1  \n",
      "1       0          0  \n",
      "2       0          0  \n",
      "3       2          2  \n",
      "4       1          1  \n"
     ]
    }
   ],
   "source": [
    "iris_train_out_1, iris_train_err_1, iris_train_rate_1 = Knn1.train(X_train_iris,y_train_iris)"
   ]
  },
  {
   "cell_type": "code",
   "execution_count": 16,
   "metadata": {},
   "outputs": [
    {
     "data": {
      "text/html": [
       "<div>\n",
       "<style scoped>\n",
       "    .dataframe tbody tr th:only-of-type {\n",
       "        vertical-align: middle;\n",
       "    }\n",
       "\n",
       "    .dataframe tbody tr th {\n",
       "        vertical-align: top;\n",
       "    }\n",
       "\n",
       "    .dataframe thead th {\n",
       "        text-align: right;\n",
       "    }\n",
       "</style>\n",
       "<table border=\"1\" class=\"dataframe\">\n",
       "  <thead>\n",
       "    <tr style=\"text-align: right;\">\n",
       "      <th></th>\n",
       "      <th>sepal length (cm)</th>\n",
       "      <th>sepal width (cm)</th>\n",
       "      <th>petal length (cm)</th>\n",
       "      <th>petal width (cm)</th>\n",
       "    </tr>\n",
       "  </thead>\n",
       "  <tbody>\n",
       "    <tr>\n",
       "      <th>0</th>\n",
       "      <td>6.3</td>\n",
       "      <td>2.8</td>\n",
       "      <td>5.1</td>\n",
       "      <td>1.5</td>\n",
       "    </tr>\n",
       "    <tr>\n",
       "      <th>1</th>\n",
       "      <td>4.4</td>\n",
       "      <td>2.9</td>\n",
       "      <td>1.4</td>\n",
       "      <td>0.2</td>\n",
       "    </tr>\n",
       "    <tr>\n",
       "      <th>2</th>\n",
       "      <td>5.0</td>\n",
       "      <td>3.6</td>\n",
       "      <td>1.4</td>\n",
       "      <td>0.2</td>\n",
       "    </tr>\n",
       "    <tr>\n",
       "      <th>3</th>\n",
       "      <td>7.2</td>\n",
       "      <td>3.0</td>\n",
       "      <td>5.8</td>\n",
       "      <td>1.6</td>\n",
       "    </tr>\n",
       "    <tr>\n",
       "      <th>4</th>\n",
       "      <td>6.0</td>\n",
       "      <td>3.4</td>\n",
       "      <td>4.5</td>\n",
       "      <td>1.6</td>\n",
       "    </tr>\n",
       "  </tbody>\n",
       "</table>\n",
       "</div>"
      ],
      "text/plain": [
       "   sepal length (cm)  sepal width (cm)  petal length (cm)  petal width (cm)\n",
       "0                6.3               2.8                5.1               1.5\n",
       "1                4.4               2.9                1.4               0.2\n",
       "2                5.0               3.6                1.4               0.2\n",
       "3                7.2               3.0                5.8               1.6\n",
       "4                6.0               3.4                4.5               1.6"
      ]
     },
     "execution_count": 16,
     "metadata": {},
     "output_type": "execute_result"
    }
   ],
   "source": [
    "X_train_iris.head()"
   ]
  },
  {
   "cell_type": "code",
   "execution_count": 17,
   "metadata": {},
   "outputs": [
    {
     "name": "stdout",
     "output_type": "stream",
     "text": [
      "Test total errors:  2\n",
      "Test error rate:  0.03333333333333333\n",
      "   sepal length (cm)  sepal width (cm)  petal length (cm)  petal width (cm)  \\\n",
      "0                5.7               2.9                4.2               1.3   \n",
      "1                6.7               3.1                4.4               1.4   \n",
      "2                4.7               3.2                1.6               0.2   \n",
      "3                6.5               2.8                4.6               1.5   \n",
      "4                6.1               2.6                5.6               1.4   \n",
      "\n",
      "   target  predicted  \n",
      "0       1          1  \n",
      "1       1          1  \n",
      "2       0          0  \n",
      "3       1          1  \n",
      "4       2          2  \n"
     ]
    }
   ],
   "source": [
    "iris_test_out_1, iris_test_err_1, iris_test_rate_1 = Knn1.test(X_train_iris,y_train_iris,X_test_iris,y_test_iris)"
   ]
  },
  {
   "cell_type": "markdown",
   "metadata": {},
   "source": [
    "### <a id=\"4.6\">3-NN with Euclidian Distance</a>"
   ]
  },
  {
   "cell_type": "code",
   "execution_count": 18,
   "metadata": {},
   "outputs": [],
   "source": [
    "class Knn_Classifier3:\n",
    "    def __init__(self):\n",
    "        return None\n",
    "    \n",
    "    def E_Distance(self, x1, x2):\n",
    "        return np.sqrt(np.sum(np.square(x1- x2)))\n",
    "\n",
    "    def train (self, X_train, y_train):\n",
    "        labels = []\n",
    "        errors = 0\n",
    "        data = pd.DataFrame.assign(X_train)\n",
    "        data = data.assign(target=y_train)\n",
    "        for x in data.index:\n",
    "            instance = data.iloc[x,:-1]\n",
    "            rest = data.drop(labels = x)\n",
    "            rest['dist'] = np.empty_like(rest.shape[0])\n",
    "            rest['dist'] = rest.apply(lambda s: self.E_Distance(s.iloc[:-2],instance), axis=1)\n",
    "            rest = rest.sort_values(by = ['dist'])\n",
    "            label = rest['target'].iloc[:3].value_counts().index[0]\n",
    "            if label != data['target'][x]: \n",
    "                errors += 1\n",
    "            labels.append(label)\n",
    "        print('total errors: ', errors)\n",
    "        print('error rate: ', errors/data.shape[0])\n",
    "        data['predicted'] = labels\n",
    "        print(data.head())\n",
    "        return data, errors, errors/data.shape[0]\n",
    "    def test (self, X_train, y_train, X_test, y_test ):\n",
    "        labels = []\n",
    "        errors = 0\n",
    "        data_train = pd.DataFrame.assign(X_train)\n",
    "        data_train = data_train.assign(target=y_train)\n",
    "\n",
    "        data_test = pd.DataFrame.assign(X_test)\n",
    "        data_test = data_test.assign(target=y_test)\n",
    "        for x in data_test.index:\n",
    "            instance = data_test.iloc[x, :-1]\n",
    "            data_train['dist'] = np.empty_like(data_train.shape[0])\n",
    "            data_train['dist'] = data_train.apply(lambda s: E_Distance (s.iloc[:-2],instance), axis=1)\n",
    "            data_train = data_train.sort_values(by = ['dist'])\n",
    "            label = data_train['target'].iloc[:3].value_counts().index[0]\n",
    "            if label != data_test['target'][x]: \n",
    "                errors += 1\n",
    "            labels.append(label)\n",
    "        print('Test total errors: ', errors)\n",
    "        print('Test error rate: ', errors/data_test.shape[0])\n",
    "        data_test['predicted'] = labels\n",
    "        print(data_test.head())\n",
    "        return data_test, errors, errors/data_test.shape[0]"
   ]
  },
  {
   "cell_type": "markdown",
   "metadata": {},
   "source": [
    "#### Runing 3NN on Iris "
   ]
  },
  {
   "cell_type": "code",
   "execution_count": 19,
   "metadata": {},
   "outputs": [],
   "source": [
    "Knn3 = Knn_Classifier3()"
   ]
  },
  {
   "cell_type": "code",
   "execution_count": 20,
   "metadata": {},
   "outputs": [
    {
     "name": "stdout",
     "output_type": "stream",
     "text": [
      "total errors:  4\n",
      "error rate:  0.044444444444444446\n",
      "   sepal length (cm)  sepal width (cm)  petal length (cm)  petal width (cm)  \\\n",
      "0                6.3               2.8                5.1               1.5   \n",
      "1                4.4               2.9                1.4               0.2   \n",
      "2                5.0               3.6                1.4               0.2   \n",
      "3                7.2               3.0                5.8               1.6   \n",
      "4                6.0               3.4                4.5               1.6   \n",
      "\n",
      "   target  predicted  \n",
      "0       2          1  \n",
      "1       0          0  \n",
      "2       0          0  \n",
      "3       2          2  \n",
      "4       1          1  \n"
     ]
    }
   ],
   "source": [
    "iris_train_out_3, iris_train_err_3, iris_train_rate_3 = Knn3.train(X_train_iris,y_train_iris)"
   ]
  },
  {
   "cell_type": "code",
   "execution_count": 21,
   "metadata": {},
   "outputs": [
    {
     "name": "stdout",
     "output_type": "stream",
     "text": [
      "Test total errors:  1\n",
      "Test error rate:  0.016666666666666666\n",
      "   sepal length (cm)  sepal width (cm)  petal length (cm)  petal width (cm)  \\\n",
      "0                5.7               2.9                4.2               1.3   \n",
      "1                6.7               3.1                4.4               1.4   \n",
      "2                4.7               3.2                1.6               0.2   \n",
      "3                6.5               2.8                4.6               1.5   \n",
      "4                6.1               2.6                5.6               1.4   \n",
      "\n",
      "   target  predicted  \n",
      "0       1          1  \n",
      "1       1          1  \n",
      "2       0          0  \n",
      "3       1          1  \n",
      "4       2          2  \n"
     ]
    }
   ],
   "source": [
    "iris_test_out_3, iris_test_err_3, iris_test_rate_3 = Knn3.test(X_train_iris,y_train_iris,X_test_iris,y_test_iris)"
   ]
  },
  {
   "cell_type": "markdown",
   "metadata": {},
   "source": [
    "### <a id=\"4.7\">General K-NN with different Distances</a>"
   ]
  },
  {
   "cell_type": "code",
   "execution_count": 22,
   "metadata": {},
   "outputs": [],
   "source": [
    "import scipy.spatial.distance as dst\n",
    "class Knn_Classifier:\n",
    "    def __init__(self, k = 1, distance = 'Euclidian'):\n",
    "        self.k = k\n",
    "        self.distance = distance\n",
    "    \n",
    "    def E_Distance(self, x1, x2):\n",
    "        return np.sqrt(np.sum(np.square(x1- x2)))\n",
    "\n",
    "    def Manh_Distance(self, x1, x2):\n",
    "        return dst.cityblock(x1,x2)\n",
    "    def Mink_Distance(self, x1, x2):\n",
    "        return dst.minkowski(x1,x2)\n",
    "    def Cos_Distance(self, x1, x2):\n",
    "        return dst.cosine(x1,x2)\n",
    "    \n",
    "    def train (self, X_train, y_train):\n",
    "        labels = []\n",
    "        errors = 0\n",
    "        data = pd.DataFrame.assign(X_train)\n",
    "        data = data.assign(target=y_train)\n",
    "        #Euclidian distnace\n",
    "        if self.distance == 'Euclidian':\n",
    "            for x in data.index:\n",
    "                instance = data.iloc[x, :-1]\n",
    "                rest = data.drop(labels = x)\n",
    "                rest['dist'] = np.empty_like(rest.shape[0])\n",
    "                rest['dist'] = rest.apply(lambda s: self.E_Distance(s.iloc[:-2],instance), axis=1)\n",
    "                rest = rest.sort_values(by = ['dist'])\n",
    "                label = rest['target'].iloc[:self.k].value_counts().index[0]\n",
    "                if label != data['target'][x]: \n",
    "                    errors += 1\n",
    "                labels.append(label)\n",
    "            print('errors : ', errors)\n",
    "            print('error rate: ', errors/data.shape[0])\n",
    "            data['predicted'] = labels\n",
    "            print(data.head())\n",
    "            return data, errors, errors/data.shape[0]\n",
    "        #Manhattan Distance\n",
    "        if self.distance == 'Manhattan':\n",
    "            for x in data.index:\n",
    "                instance = data.iloc[x, :-1]\n",
    "                rest = data.drop(labels = x)\n",
    "                rest['dist'] = np.empty_like(rest.shape[0])\n",
    "                rest['dist'] = rest.apply(lambda s: self.Manh_Distance(s.iloc[:-2],instance), axis=1)\n",
    "                rest = rest.sort_values(by = ['dist'])\n",
    "                label = rest['target'].iloc[:self.k].value_counts().index[0]\n",
    "                if label != data['target'][x]: \n",
    "                    errors += 1\n",
    "                labels.append(label)\n",
    "            print('errors : ', errors)\n",
    "            print('error rate: ', errors/data.shape[0])\n",
    "            data['predicted'] = labels\n",
    "            print(data.head())\n",
    "            return data, errors, errors/data.shape[0]\n",
    "        # Cosine Distance\n",
    "        if self.distance == 'Cosine':\n",
    "            for x in data.index:\n",
    "                instance = data.iloc[x, :-1]\n",
    "                rest = data.drop(labels = x)\n",
    "                rest['dist'] = np.empty_like(rest.shape[0])\n",
    "                rest['dist'] = rest.apply(lambda s: self.Cos_Distance(s.iloc[:-2],instance), axis=1)\n",
    "                rest = rest.sort_values(by = ['dist'])\n",
    "                label = rest['target'].iloc[:self.k].value_counts().index[0]\n",
    "                if label != data['target'][x]: \n",
    "                    errors += 1\n",
    "                labels.append(label)\n",
    "            print('errors : ', errors)\n",
    "            print('error rate: ', errors/data.shape[0])\n",
    "            data['predicted'] = labels\n",
    "            print(data.head())\n",
    "            return data, errors, errors/data.shape[0]\n",
    "        # Minkowski Distance\n",
    "        if self.distance == 'Minkowski':\n",
    "            for x in data.index:\n",
    "                instance = data.iloc[x,:-1]\n",
    "                rest = data.drop(labels = x)\n",
    "                rest['dist'] = np.empty_like(rest.shape[0])\n",
    "                rest['dist'] = rest.apply(lambda s: self.Mink_Distance(s.iloc[:-2],instance), axis=1)\n",
    "                rest = rest.sort_values(by = ['dist'])\n",
    "                label = rest['target'].iloc[:self.k].value_counts().index[0]\n",
    "                if label != data['target'][x]: \n",
    "                    errors += 1\n",
    "                labels.append(label)\n",
    "            print('errors : ', errors)\n",
    "            print('error rate: ', errors/data.shape[0])\n",
    "            data['predicted'] = labels\n",
    "            print(data.head())\n",
    "            return data, errors, errors/data.shape[0]\n",
    "        \n",
    "    def test (self, X_train, y_train, X_test, y_test):\n",
    "        labels = []\n",
    "        errors = 0\n",
    "        data_train = pd.DataFrame.assign(X_train)\n",
    "        data_train = data_train.assign(target=y_train)\n",
    "\n",
    "        data_test = pd.DataFrame.assign(X_test)\n",
    "        data_test = data_test.assign(target=y_test)\n",
    "        #Euclidian distnace\n",
    "        if self.distance == 'Euclidian':\n",
    "            for x in data_test.index:\n",
    "                instance = data_test.iloc[x, :-1]\n",
    "                data_train['dist'] = np.empty_like(data_train.shape[0])\n",
    "                data_train['dist'] = data_train.apply(lambda s: self.E_Distance(s.iloc[:-2],instance), axis=1)\n",
    "                data_train = data_train.sort_values(by = ['dist'])\n",
    "                label = data_train['target'].iloc[:self.k].value_counts().index[0]\n",
    "                if label != data_test['target'][x]: \n",
    "                    errors += 1\n",
    "                labels.append(label)\n",
    "            print('errors : ', errors)\n",
    "            print('error rate: ', errors/data_test.shape[0])\n",
    "            data_test['predicted'] = labels\n",
    "            print(data_test.head())\n",
    "            return data_test, errors, errors/data_test.shape[0]\n",
    "        #Manhattan distnace\n",
    "        if self.distance == 'Manhattan':\n",
    "            for x in data_test.index:\n",
    "                instance = data_test.iloc[x, :-1]\n",
    "                data_train['dist'] = np.empty_like(data_train.shape[0])\n",
    "                data_train['dist'] = data_train.apply(lambda s: self.Manh_Distance(s.iloc[:-2],instance), axis=1)\n",
    "                data_train = data_train.sort_values(by = ['dist'])\n",
    "                label = data_train['target'].iloc[:self.k].value_counts().index[0]\n",
    "                if label != data_test['target'][x]: \n",
    "                    errors += 1\n",
    "                labels.append(label)\n",
    "            print('errors : ', errors)\n",
    "            print('error rate: ', errors/data_test.shape[0])\n",
    "            data_test['predicted'] = labels\n",
    "            print(data_test.head())\n",
    "            return data_test, errors, errors/data_test.shape[0]\n",
    "        #Cosine distnace\n",
    "        if self.distance == 'Cosine':\n",
    "            for x in data_test.index:\n",
    "                instance = data_test.iloc[x, :-1]\n",
    "                data_train['dist'] = np.empty_like(data_train.shape[0])\n",
    "                data_train['dist'] = data_train.apply(lambda s: self.Cos_Distance(s.iloc[:-2],instance), axis=1)\n",
    "                data_train = data_train.sort_values(by = ['dist'])\n",
    "                label = data_train['target'].iloc[:self.k].value_counts().index[0]\n",
    "                if label != data_test['target'][x]: \n",
    "                    errors += 1\n",
    "                labels.append(label)\n",
    "            print('errors : ', errors)\n",
    "            print('error rate: ', errors/data_test.shape[0])\n",
    "            data_test['predicted'] = labels\n",
    "            print(data_test.head())\n",
    "            return data_test, errors, errors/data_test.shape[0]\n",
    "        #Euclidian distnace\n",
    "        if self.distance == 'Minkowski':\n",
    "            for x in data_test.index:\n",
    "                instance = data_test.iloc[x, :-1]\n",
    "                data_train['dist'] = np.empty_like(data_train.shape[0])\n",
    "                data_train['dist'] = data_train.apply(lambda s: self.Mink_Distance(s.iloc[:-2],instance), axis=1)\n",
    "                data_train = data_train.sort_values(by = ['dist'])\n",
    "                label = data_train['target'].iloc[:self.k].value_counts().index[0]\n",
    "                if label != data_test['target'][x]: \n",
    "                    errors += 1\n",
    "                labels.append(label)\n",
    "            print('errors : ', errors)\n",
    "            print('error rate: ', errors/data_test.shape[0])\n",
    "            data_test['predicted'] = labels\n",
    "            print(data_test.head())\n",
    "            return data_test, errors, errors/data_test.shape[0]"
   ]
  },
  {
   "cell_type": "markdown",
   "metadata": {},
   "source": [
    "#### Example: "
   ]
  },
  {
   "cell_type": "code",
   "execution_count": 23,
   "metadata": {},
   "outputs": [
    {
     "name": "stdout",
     "output_type": "stream",
     "text": [
      "errors :  1\n",
      "error rate:  0.016666666666666666\n",
      "   sepal length (cm)  sepal width (cm)  petal length (cm)  petal width (cm)  \\\n",
      "0                5.7               2.9                4.2               1.3   \n",
      "1                6.7               3.1                4.4               1.4   \n",
      "2                4.7               3.2                1.6               0.2   \n",
      "3                6.5               2.8                4.6               1.5   \n",
      "4                6.1               2.6                5.6               1.4   \n",
      "\n",
      "   target  predicted  \n",
      "0       1          1  \n",
      "1       1          1  \n",
      "2       0          0  \n",
      "3       1          1  \n",
      "4       2          2  \n"
     ]
    }
   ],
   "source": [
    "knn = Knn_Classifier(distance='Cosine',k=4)\n",
    "data_test = knn.test(X_train_iris, y_train_iris, X_test_iris, y_test_iris)"
   ]
  },
  {
   "cell_type": "code",
   "execution_count": 24,
   "metadata": {},
   "outputs": [
    {
     "name": "stdout",
     "output_type": "stream",
     "text": [
      "errors :  0\n",
      "error rate:  0.0\n",
      "   sepal length (cm)  sepal width (cm)  petal length (cm)  petal width (cm)  \\\n",
      "0                5.7               2.9                4.2               1.3   \n",
      "1                6.7               3.1                4.4               1.4   \n",
      "2                4.7               3.2                1.6               0.2   \n",
      "3                6.5               2.8                4.6               1.5   \n",
      "4                6.1               2.6                5.6               1.4   \n",
      "\n",
      "   target  predicted  \n",
      "0       1          1  \n",
      "1       1          1  \n",
      "2       0          0  \n",
      "3       1          1  \n",
      "4       2          2  \n"
     ]
    }
   ],
   "source": [
    "knn10 = Knn_Classifier(distance='Minkowski',k=10)\n",
    "data_test = knn10.test(X_train_iris, y_train_iris, X_test_iris, y_test_iris)"
   ]
  },
  {
   "cell_type": "markdown",
   "metadata": {},
   "source": [
    "## <a id=\"5\">Comparing with Scikit-learn</a>\n",
    "In Sklearn, all machine learning models implemented as Python classes, stroing the information learned from the data using the **.fit()** method, and predicting the labels of new data with the **.predict()** method"
   ]
  },
  {
   "cell_type": "code",
   "execution_count": 25,
   "metadata": {},
   "outputs": [],
   "source": [
    "from sklearn.neighbors import KNeighborsClassifier\n",
    "sk_knn = KNeighborsClassifier(n_neighbors=3)\n",
    "sk_knn.fit(X_train_iris, y_train_iris)\n",
    "y_pred = sk_knn.predict(X_test_iris)\n",
    "score = sk_knn.score(X_test_iris, y_test_iris) "
   ]
  },
  {
   "cell_type": "markdown",
   "metadata": {},
   "source": [
    "## <a id=\"6\">Summary</a>"
   ]
  },
  {
   "cell_type": "code",
   "execution_count": 29,
   "metadata": {},
   "outputs": [
    {
     "name": "stdout",
     "output_type": "stream",
     "text": [
      "Iris Data: \n",
      "\n",
      "K =  1 \n",
      "\n",
      "Test Accuracy:   0.9666666666666667\n",
      "\n",
      "Iris Data: \n",
      "\n",
      "K =  3 \n",
      "\n",
      "Test Accuracy:   0.9833333333333333\n",
      "\n",
      " ### SK-Learn ### \n",
      "\n",
      "K =  3 \n",
      "\n",
      "Test Accuracy:   0.9833333333333333\n"
     ]
    }
   ],
   "source": [
    "print(\"Iris Data: \\n\")\n",
    "print(\"K =  1 \\n\")\n",
    "print(\"Test Accuracy:  \", 1-iris_test_rate_1)\n",
    "print()\n",
    "print (\"Iris Data: \\n\")\n",
    "print (\"K =  3 \\n\")\n",
    "print(\"Test Accuracy:  \", 1-iris_test_rate_3)\n",
    "print(\"\\n ### SK-Learn ### \\n\")\n",
    "print (\"K =  3 \\n\")\n",
    "print(\"Test Accuracy:  \", score)"
   ]
  },
  {
   "cell_type": "markdown",
   "metadata": {},
   "source": [
    "## <a id=\"7\">where to Go next</a>\n",
    "- This implementation is far from being effeicient (vectorisation, object redundency, ...)\n",
    "- No sense in reinventing the wheel, explore SKlearn full arsenal of Algorithms\n",
    "- **Practice!!!** \n",
    "    - <a href=\"https://developers.google.com/machine-learning/crash-course\">Google's Machine learning Crash Course</a> \n",
    "    - <a href=\"https://bloomberg.github.io/foml/#home\">Bloomberg Foundations of Machine Learning</a>"
   ]
  },
  {
   "cell_type": "code",
   "execution_count": null,
   "metadata": {},
   "outputs": [],
   "source": []
  }
 ],
 "metadata": {
  "kernelspec": {
   "display_name": "Python 3",
   "language": "python",
   "name": "python3"
  },
  "language_info": {
   "codemirror_mode": {
    "name": "ipython",
    "version": 3
   },
   "file_extension": ".py",
   "mimetype": "text/x-python",
   "name": "python",
   "nbconvert_exporter": "python",
   "pygments_lexer": "ipython3",
   "version": "3.7.3"
  }
 },
 "nbformat": 4,
 "nbformat_minor": 2
}
